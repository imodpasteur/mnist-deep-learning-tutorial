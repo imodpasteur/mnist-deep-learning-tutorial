{
 "cells": [
  {
   "cell_type": "markdown",
   "metadata": {},
   "source": [
    "## Import MNIST data "
   ]
  },
  {
   "cell_type": "code",
   "execution_count": 15,
   "metadata": {
    "collapsed": false
   },
   "outputs": [
    {
     "name": "stdout",
     "output_type": "stream",
     "text": [
      "done importing\n"
     ]
    }
   ],
   "source": [
    "from keras.datasets import mnist\n",
    "(X_train, y_train), (X_test, y_test) = mnist.load_data()\n",
    "print(\"done importing\")\n"
   ]
  },
  {
   "cell_type": "code",
   "execution_count": 2,
   "metadata": {
    "collapsed": false
   },
   "outputs": [
    {
     "name": "stdout",
     "output_type": "stream",
     "text": [
      "(60000, 28, 28)\n",
      "(60000,)\n"
     ]
    }
   ],
   "source": [
    "print(X_train.shape)\n",
    "print(y_train.shape)"
   ]
  },
  {
   "cell_type": "markdown",
   "metadata": {},
   "source": [
    "## Show some training images & labels"
   ]
  },
  {
   "cell_type": "code",
   "execution_count": 3,
   "metadata": {
    "collapsed": false
   },
   "outputs": [
    {
     "data": {
      "image/png": "[encoded data removed]",
      "text/plain": [
       "<matplotlib.figure.Figure at 0x1147e7310>"
      ]
     },
     "metadata": {},
     "output_type": "display_data"
    }
   ],
   "source": [
    "import matplotlib.pyplot as plt\n",
    "\n",
    "%matplotlib inline\n",
    "\n",
    "for i in range(9):\n",
    "    plt.subplot(3,3,i+1)\n",
    "    plt.imshow(X_train[i], cmap='gray', interpolation='nearest')\n",
    "    plt.title(\"class={}\".format(y_train[i]))\n",
    "    plt.axis('off')\n"
   ]
  },
  {
   "cell_type": "markdown",
   "metadata": {},
   "source": [
    "## Reshape and normalize the input data"
   ]
  },
  {
   "cell_type": "code",
   "execution_count": 4,
   "metadata": {
    "collapsed": false
   },
   "outputs": [
    {
     "name": "stdout",
     "output_type": "stream",
     "text": [
      "('Training matrix shape', (60000, 784))\n",
      "('Testing matrix shape', (10000, 784))\n"
     ]
    }
   ],
   "source": [
    "X_train = X_train.reshape(60000, 784)\n",
    "X_test = X_test.reshape(10000, 784)\n",
    "X_train = X_train.astype('float32')\n",
    "X_test = X_test.astype('float32')\n",
    "X_train /= 255\n",
    "X_test /= 255\n",
    "print(\"Training matrix shape\", X_train.shape)\n",
    "print(\"Testing matrix shape\", X_test.shape)"
   ]
  },
  {
   "cell_type": "markdown",
   "metadata": {},
   "source": [
    "## Make labels one-hot "
   ]
  },
  {
   "cell_type": "code",
   "execution_count": 5,
   "metadata": {
    "collapsed": false
   },
   "outputs": [
    {
     "name": "stdout",
     "output_type": "stream",
     "text": [
      "0\n",
      "4\n"
     ]
    }
   ],
   "source": [
    "print(y_train[1])\n",
    "print(y_train[2])"
   ]
  },
  {
   "cell_type": "code",
   "execution_count": 6,
   "metadata": {
    "collapsed": false
   },
   "outputs": [],
   "source": [
    "from keras.utils import np_utils\n",
    "\n",
    "Y_train = np_utils.to_categorical(y_train, 10)\n",
    "Y_test = np_utils.to_categorical(y_test, 10)"
   ]
  },
  {
   "cell_type": "code",
   "execution_count": 7,
   "metadata": {
    "collapsed": false
   },
   "outputs": [
    {
     "name": "stdout",
     "output_type": "stream",
     "text": [
      "[ 1.  0.  0.  0.  0.  0.  0.  0.  0.  0.]\n",
      "[ 0.  0.  0.  0.  1.  0.  0.  0.  0.  0.]\n"
     ]
    }
   ],
   "source": [
    "print(Y_train[1])\n",
    "print(Y_train[2])"
   ]
  },
  {
   "cell_type": "markdown",
   "metadata": {},
   "source": [
    "## Build network"
   ]
  },
  {
   "cell_type": "code",
   "execution_count": 8,
   "metadata": {
    "collapsed": false
   },
   "outputs": [],
   "source": [
    "from keras.models import Sequential\n",
    "from keras.layers.core import Dense, Dropout, Activation\n",
    "\n",
    "model = Sequential()\n",
    "model.add(Dense(512, input_shape=(784,)))\n",
    "model.add(Activation('relu')) \n",
    "model.add(Dropout(0.2))   \n",
    "\n",
    "model.add(Dense(512))\n",
    "model.add(Activation('relu'))\n",
    "model.add(Dropout(0.2))   \n",
    "\n",
    "model.add(Dense(10))\n",
    "model.add(Activation('softmax')) "
   ]
  },
  {
   "cell_type": "markdown",
   "metadata": {},
   "source": [
    "## Compile + specify loss and optimizer"
   ]
  },
  {
   "cell_type": "code",
   "execution_count": 10,
   "metadata": {
    "collapsed": true
   },
   "outputs": [],
   "source": [
    "model.compile(loss='categorical_crossentropy', optimizer='sgd', metrics=['accuracy'])"
   ]
  },
  {
   "cell_type": "markdown",
   "metadata": {},
   "source": [
    "## Train model"
   ]
  },
  {
   "cell_type": "code",
   "execution_count": 12,
   "metadata": {
    "collapsed": false
   },
   "outputs": [
    {
     "name": "stdout",
     "output_type": "stream",
     "text": [
      "Train on 60000 samples, validate on 10000 samples\n",
      "Epoch 1/20\n",
      "60000/60000 [==============================] - 5s - loss: 0.2425 - acc: 0.9301 - val_loss: 0.2009 - val_acc: 0.9416\n",
      "Epoch 2/20\n",
      "60000/60000 [==============================] - 5s - loss: 0.2332 - acc: 0.9329 - val_loss: 0.1925 - val_acc: 0.9434\n",
      "Epoch 3/20\n",
      "60000/60000 [==============================] - 5s - loss: 0.2243 - acc: 0.9352 - val_loss: 0.1845 - val_acc: 0.9470\n",
      "Epoch 4/20\n",
      "60000/60000 [==============================] - 5s - loss: 0.2146 - acc: 0.9383 - val_loss: 0.1779 - val_acc: 0.9487\n",
      "Epoch 5/20\n",
      "60000/60000 [==============================] - 5s - loss: 0.2090 - acc: 0.9393 - val_loss: 0.1704 - val_acc: 0.9506\n",
      "Epoch 6/20\n",
      "60000/60000 [==============================] - 5s - loss: 0.1994 - acc: 0.9425 - val_loss: 0.1652 - val_acc: 0.9528\n",
      "Epoch 7/20\n",
      "60000/60000 [==============================] - 5s - loss: 0.1926 - acc: 0.9448 - val_loss: 0.1596 - val_acc: 0.9527\n",
      "Epoch 8/20\n",
      "60000/60000 [==============================] - 6s - loss: 0.1846 - acc: 0.9465 - val_loss: 0.1538 - val_acc: 0.9546\n",
      "Epoch 9/20\n",
      "60000/60000 [==============================] - 6s - loss: 0.1804 - acc: 0.9483 - val_loss: 0.1498 - val_acc: 0.9558\n",
      "Epoch 10/20\n",
      "60000/60000 [==============================] - 7s - loss: 0.1734 - acc: 0.9492 - val_loss: 0.1451 - val_acc: 0.9576\n",
      "Epoch 11/20\n",
      "60000/60000 [==============================] - 6s - loss: 0.1698 - acc: 0.9506 - val_loss: 0.1412 - val_acc: 0.9581\n",
      "Epoch 12/20\n",
      "60000/60000 [==============================] - 6s - loss: 0.1650 - acc: 0.9520 - val_loss: 0.1366 - val_acc: 0.9598\n",
      "Epoch 13/20\n",
      "60000/60000 [==============================] - 6s - loss: 0.1601 - acc: 0.9538 - val_loss: 0.1332 - val_acc: 0.9602\n",
      "Epoch 14/20\n",
      "60000/60000 [==============================] - 6s - loss: 0.1558 - acc: 0.9551 - val_loss: 0.1298 - val_acc: 0.9620\n",
      "Epoch 15/20\n",
      "60000/60000 [==============================] - 6s - loss: 0.1513 - acc: 0.9560 - val_loss: 0.1274 - val_acc: 0.9616\n",
      "Epoch 16/20\n",
      "60000/60000 [==============================] - 6s - loss: 0.1480 - acc: 0.9570 - val_loss: 0.1241 - val_acc: 0.9631\n",
      "Epoch 17/20\n",
      "60000/60000 [==============================] - 5s - loss: 0.1438 - acc: 0.9582 - val_loss: 0.1213 - val_acc: 0.9635\n",
      "Epoch 18/20\n",
      "60000/60000 [==============================] - 5s - loss: 0.1396 - acc: 0.9589 - val_loss: 0.1192 - val_acc: 0.9648\n",
      "Epoch 19/20\n",
      "60000/60000 [==============================] - 5s - loss: 0.1377 - acc: 0.9608 - val_loss: 0.1172 - val_acc: 0.9652\n",
      "Epoch 20/20\n",
      "60000/60000 [==============================] - 6s - loss: 0.1347 - acc: 0.9605 - val_loss: 0.1136 - val_acc: 0.9664\n"
     ]
    },
    {
     "data": {
      "text/plain": [
       "<keras.callbacks.History at 0x113642c50>"
      ]
     },
     "execution_count": 12,
     "metadata": {},
     "output_type": "execute_result"
    }
   ],
   "source": [
    "model.fit(X_train, Y_train,\n",
    "          batch_size=128, nb_epoch=10,\n",
    "          verbose=1,\n",
    "          validation_data=(X_test, Y_test))"
   ]
  },
  {
   "cell_type": "markdown",
   "metadata": {},
   "source": [
    "## Evaluate model"
   ]
  },
  {
   "cell_type": "code",
   "execution_count": 10,
   "metadata": {
    "collapsed": false
   },
   "outputs": [
    {
     "name": "stdout",
     "output_type": "stream",
     "text": [
      " 9984/10000 [============================>.] - ETA: 0s('Test score:', 0.20993906867802142)\n",
      "('Test accuracy:', 0.93920000000000003)\n"
     ]
    }
   ],
   "source": [
    "score = model.evaluate(X_test, Y_test, verbose=1)\n",
    "print('Test score:', score[0])\n",
    "print('Test accuracy:', score[1])"
   ]
  },
  {
   "cell_type": "markdown",
   "metadata": {},
   "source": [
    "## Find correct predictions and mistakes"
   ]
  },
  {
   "cell_type": "code",
   "execution_count": 13,
   "metadata": {
    "collapsed": false
   },
   "outputs": [
    {
     "name": "stdout",
     "output_type": "stream",
     "text": [
      " 9984/10000 [============================>.] - ETA: 0s"
     ]
    }
   ],
   "source": [
    "predicted_classes = model.predict_classes(X_test)\n",
    "\n",
    "import numpy as np\n",
    "\n",
    "correct_indices = np.nonzero(predicted_classes == y_test)[0]\n",
    "incorrect_indices = np.nonzero(predicted_classes != y_test)[0]"
   ]
  },
  {
   "cell_type": "markdown",
   "metadata": {},
   "source": [
    "## Inspect some correct predictions"
   ]
  },
  {
   "cell_type": "code",
   "execution_count": 14,
   "metadata": {
    "collapsed": false
   },
   "outputs": [
    {
     "data": {
      "image/png": "[encoded data removed]",
      "text/plain": [
       "<matplotlib.figure.Figure at 0x114e33b10>"
      ]
     },
     "metadata": {},
     "output_type": "display_data"
    }
   ],
   "source": [
    "for i, correct in enumerate(correct_indices[:4]):\n",
    "    plt.subplot(2,2,i+1)\n",
    "    plt.imshow(X_test[correct].reshape(28,28), cmap='gray', interpolation='none')\n",
    "    plt.title(\"predicted={}, true={}\".format(predicted_classes[correct], y_test[correct]))\n",
    "    plt.axis(\"off\")\n"
   ]
  },
  {
   "cell_type": "markdown",
   "metadata": {},
   "source": [
    "## Inspect wrong predictions"
   ]
  },
  {
   "cell_type": "code",
   "execution_count": 18,
   "metadata": {
    "collapsed": false
   },
   "outputs": [
    {
     "data": {
      "image/png": "[encoded data removed]",
      "text/plain": [
       "<matplotlib.figure.Figure at 0x1138d6290>"
      ]
     },
     "metadata": {},
     "output_type": "display_data"
    }
   ],
   "source": [
    "for i, incorrect in enumerate(incorrect_indices[:4]):\n",
    "    plt.subplot(2,2,i+1)\n",
    "    plt.imshow(X_test[incorrect].reshape(28,28), cmap='gray', interpolation='none')\n",
    "    plt.title(\"Predicted={}, True={}\".format(predicted_classes[incorrect], y_test[incorrect]))\n",
    "    plt.axis(\"off\")"
   ]
  }
 ],
 "metadata": {
  "kernelspec": {
   "display_name": "Python 2",
   "language": "python",
   "name": "python2"
  },
  "language_info": {
   "codemirror_mode": {
    "name": "ipython",
    "version": 2
   },
   "file_extension": ".py",
   "mimetype": "text/x-python",
   "name": "python",
   "nbconvert_exporter": "python",
   "pygments_lexer": "ipython2",
   "version": "2.7.10"
  }
 },
 "nbformat": 4,
 "nbformat_minor": 0
}
